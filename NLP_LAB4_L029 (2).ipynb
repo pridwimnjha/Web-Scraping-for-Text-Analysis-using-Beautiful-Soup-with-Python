{
  "nbformat": 4,
  "nbformat_minor": 0,
  "metadata": {
    "colab": {
      "provenance": []
    },
    "kernelspec": {
      "name": "python3",
      "display_name": "Python 3"
    },
    "language_info": {
      "name": "python"
    }
  },
  "cells": [
    {
      "cell_type": "code",
      "source": [
        "import requests\n",
        "from bs4 import BeautifulSoup\n",
        "import time\n",
        "\n",
        "def scrape_amazon_with_headers(search_query):\n",
        "    \"\"\"\n",
        "    Scrapes Amazon using requests and BeautifulSoup, with a more complete set of headers\n",
        "    to try and bypass anti-scraping measures.\n",
        "    \"\"\"\n",
        "    url = f\"https://www.amazon.com/s?k={search_query}\"\n",
        "\n",
        "    # A more complete set of headers to mimic a real browser\n",
        "    headers = {\n",
        "        \"Accept\": \"text/html,application/xhtml+xml,application/xml;q=0.9,image/webp,*/*;q=0.8\",\n",
        "        \"Accept-Encoding\": \"gzip, deflate, br\",\n",
        "        \"Accept-Language\": \"en-US,en;q=0.5\",\n",
        "        \"Connection\": \"keep-alive\",\n",
        "        \"Referer\": \"https://www.google.com/\",  # Pretend we came from a search engine\n",
        "        \"Upgrade-Insecure-Requests\": \"1\",\n",
        "        \"User-Agent\": \"Mozilla/5.0 (Windows NT 10.0; Win64; x64) AppleWebKit/537.36 (KHTML, like Gecko) Chrome/91.0.4472.124 Safari/537.36\"\n",
        "    }\n",
        "\n",
        "    print(f\"Attempting to scrape URL with enhanced headers: {url}\")\n",
        "\n",
        "    try:\n",
        "        response = requests.get(url, headers=headers, timeout=10)\n",
        "\n",
        "        # Check for non-200 status codes\n",
        "        if response.status_code != 200:\n",
        "            print(f\"Request failed with status code: {response.status_code}\")\n",
        "            print(f\"Reason: {response.reason}\")\n",
        "            # The HTML content might contain an error message or a CAPTCHA page\n",
        "            print(\"Response content (first 500 chars):\")\n",
        "            print(response.text[:500])\n",
        "            return []\n",
        "\n",
        "        soup = BeautifulSoup(response.content, \"html.parser\")\n",
        "\n",
        "        # ... (rest of the parsing logic remains the same) ...\n",
        "        # The selector might need to be updated. It's a frequent point of failure.\n",
        "        results = soup.find_all(\"div\", {\"data-component-type\": \"s-search-result\"})\n",
        "\n",
        "        if not results:\n",
        "            print(\"No search results found. This might be due to a blocked request or a change in Amazon's HTML structure.\")\n",
        "            return []\n",
        "\n",
        "        products = []\n",
        "        for item in results:\n",
        "            product_info = {}\n",
        "\n",
        "            title_tag = item.find(\"span\", class_=\"a-text-normal\") or item.find(\"h2\").find(\"span\")\n",
        "            product_info[\"title\"] = title_tag.get_text(strip=True) if title_tag else \"N/A\"\n",
        "\n",
        "            price_whole = item.find(\"span\", class_=\"a-price-whole\")\n",
        "            price_fraction = item.find(\"span\", class_=\"a-price-fraction\")\n",
        "\n",
        "            if price_whole and price_fraction:\n",
        "                product_info[\"price\"] = f\"${price_whole.get_text(strip=True)}{price_fraction.get_text(strip=True)}\"\n",
        "            else:\n",
        "                product_info[\"price\"] = \"N/A\"\n",
        "\n",
        "            rating_tag = item.find(\"span\", class_=\"a-icon-alt\")\n",
        "            product_info[\"rating\"] = rating_tag.get_text(strip=True) if rating_tag else \"N/A\"\n",
        "\n",
        "            products.append(product_info)\n",
        "\n",
        "        return products\n",
        "\n",
        "    except requests.exceptions.RequestException as e:\n",
        "        print(f\"Error during the request: {e}\")\n",
        "        return []\n",
        "\n",
        "if __name__ == \"__main__\":\n",
        "    search_term = \"laptop\"\n",
        "    print(f\"Scraping Amazon for: '{search_term}'...\")\n",
        "\n",
        "    # Still use a delay to be polite\n",
        "    time.sleep(5)\n",
        "\n",
        "    laptops = scrape_amazon_with_headers(search_term)\n",
        "\n",
        "    if laptops:\n",
        "        print(\"\\n--- Scraped Products ---\")\n",
        "        for i, laptop in enumerate(laptops[:5]):\n",
        "            print(f\"Product {i+1}:\")\n",
        "            print(f\"  Title: {laptop.get('title')}\")\n",
        "            print(f\"  Price: {laptop.get('price')}\")\n",
        "            print(f\"  Rating: {laptop.get('rating')}\")\n",
        "            print(\"-\" * 20)\n",
        "    else:\n",
        "        print(\"\\nFailed to retrieve products. The request was likely blocked.\")\n"
      ],
      "metadata": {
        "colab": {
          "base_uri": "https://localhost:8080/"
        },
        "id": "xPhpRPAZdLgk",
        "outputId": "786272ac-e313-4e6a-8bf3-b1a71838cef2"
      },
      "execution_count": null,
      "outputs": [
        {
          "output_type": "stream",
          "name": "stdout",
          "text": [
            "Scraping Amazon for: 'laptop'...\n",
            "Attempting to scrape URL with enhanced headers: https://www.amazon.com/s?k=laptop\n",
            "\n",
            "--- Scraped Products ---\n",
            "Product 1:\n",
            "  Title: HP 15.6 inch Laptop, HD Touchscreen Display, AMD Ryzen 3 7320U, 8 GB RAM, 128 GB SSD, AMD Radeon Graphics, Windows 11 Home in S Mode, Natural Silver, 15- fc0099nr\n",
            "  Price: $299.99\n",
            "  Rating: 4.4 out of 5 stars\n",
            "--------------------\n",
            "Product 2:\n",
            "  Title: HP 14 Laptop, Intel Celeron N4020, 4 GB RAM, 64 GB Storage, 14-inch Micro-edge HD Display, Windows 11 Home, Thin & Portable, 4K Graphics, One Year of Microsoft 365 (14-dq0040nr, Snowflake White)\n",
            "  Price: $173.27\n",
            "  Rating: 4.1 out of 5 stars\n",
            "--------------------\n",
            "Product 3:\n",
            "  Title: HP 2025 14 inch HD Laptop, Office Pro Lifetime License, Intel Processor N150, 16 GB RAM, 384 GB Storage(128GB UFS+256GB MSD), Copilot AI, Wi-Fi 6, Lightweight, Windows 11 Pro, w/Accessories\n",
            "  Price: $399.99\n",
            "  Rating: 3.9 out of 5 stars\n",
            "--------------------\n",
            "Product 4:\n",
            "  Title: Apple 2025 MacBook Air 13-inch Laptop with M4 chip: Built for Apple Intelligence, 13.6-inch Liquid Retina Display, 16GB Unified Memory, 256GB SSD Storage, 12MP Center Stage Camera, Touch ID; Midnight\n",
            "  Price: $799.00\n",
            "  Rating: 4.8 out of 5 stars\n",
            "--------------------\n",
            "Product 5:\n",
            "  Title: HP Chromebook 14 Laptop, Intel Celeron N4120, 4 GB RAM, 64 GB eMMC, 14\" HD Display, Chrome OS, Thin Design, 4K Graphics, Long Battery Life, Ash Gray Keyboard (14a-na0226nr, 2022, Mineral Silver)\n",
            "  Price: $174.90\n",
            "  Rating: 4.3 out of 5 stars\n",
            "--------------------\n"
          ]
        }
      ]
    },
    {
      "cell_type": "code",
      "source": [
        "!sudo apt-get install tesseract-ocr"
      ],
      "metadata": {
        "colab": {
          "base_uri": "https://localhost:8080/"
        },
        "id": "EIiWmfaThsbi",
        "outputId": "51ff68d2-819e-4633-b9f4-2af9c550f8b9"
      },
      "execution_count": null,
      "outputs": [
        {
          "output_type": "stream",
          "name": "stdout",
          "text": [
            "Reading package lists... Done\n",
            "Building dependency tree... Done\n",
            "Reading state information... Done\n",
            "tesseract-ocr is already the newest version (4.1.1-2.1build1).\n",
            "0 upgraded, 0 newly installed, 0 to remove and 35 not upgraded.\n"
          ]
        }
      ]
    },
    {
      "cell_type": "code",
      "source": [
        "pip install pytesseract pillow"
      ],
      "metadata": {
        "colab": {
          "base_uri": "https://localhost:8080/"
        },
        "id": "-BWRryxxh16S",
        "outputId": "8011e9d5-286d-4a3f-89e3-b9c2f351f102"
      },
      "execution_count": null,
      "outputs": [
        {
          "output_type": "stream",
          "name": "stdout",
          "text": [
            "Collecting pytesseract\n",
            "  Downloading pytesseract-0.3.13-py3-none-any.whl.metadata (11 kB)\n",
            "Requirement already satisfied: pillow in /usr/local/lib/python3.11/dist-packages (11.3.0)\n",
            "Requirement already satisfied: packaging>=21.3 in /usr/local/lib/python3.11/dist-packages (from pytesseract) (25.0)\n",
            "Downloading pytesseract-0.3.13-py3-none-any.whl (14 kB)\n",
            "Installing collected packages: pytesseract\n",
            "Successfully installed pytesseract-0.3.13\n"
          ]
        }
      ]
    },
    {
      "cell_type": "code",
      "source": [
        "from PIL import Image\n",
        "import pytesseract\n",
        "\n",
        "# Path to your image file\n",
        "image_path = \"/content/images.jpg\"\n",
        "\n",
        "# Open the image with Pillow\n",
        "img = Image.open(image_path)\n",
        "\n",
        "# Optional: If Tesseract is not in your PATH, specify the executable location:\n",
        "# pytesseract.pytesseract.tesseract_cmd = r'C:\\Program Files\\Tesseract-OCR\\tesseract.exe'  # Windows example\n",
        "\n",
        "# Extract text from the image\n",
        "text = pytesseract.image_to_string(img)\n",
        "\n",
        "print(\"Extracted Text:\")\n",
        "print(text)\n"
      ],
      "metadata": {
        "colab": {
          "base_uri": "https://localhost:8080/"
        },
        "id": "7rMfjBU7h63S",
        "outputId": "5a318dd7-3fe6-4e72-bff6-d70f0a6e9bf8"
      },
      "execution_count": null,
      "outputs": [
        {
          "output_type": "stream",
          "name": "stdout",
          "text": [
            "Extracted Text:\n",
            "“© MAKE TEXT\n",
            "STAND OUT FROM\n",
            ", BACKGROUNDS ”* <\n",
            "\n",
            "      \n",
            "\f\n"
          ]
        }
      ]
    },
    {
      "cell_type": "markdown",
      "source": [
        "OBSERVATIONS AND LEARNINGS FROM ABOVE CODES\n",
        "\n",
        "The web scraping code successfully extracted information (title, price, and rating) for the first 5 laptop listings on Amazon, demonstrating the use of requests with enhanced headers and BeautifulSoup for parsing HTML. It also included error handling for non-200 status codes and potential changes in the website's structure.\n",
        "The OCR code using pytesseract and Pillow successfully extracted text from an image file. This involved installing the Tesseract OCR engine (tesseract-ocr) and the Python libraries (pytesseract, pillow), and then using pytesseract.image_to_string() to perform the text extraction.\n",
        "Both examples show how to use external libraries to perform specific tasks (web scraping and OCR) within a Python environment.\n",
        "\n",
        "\n",
        "\n",
        "CONCLUSION\n",
        "\n",
        "These examples highlight the capabilities of Python libraries like requests, BeautifulSoup, pytesseract, and Pillow for automating data extraction from websites and recognizing text within images. These techniques can be applied to a wide range of tasks, such as gathering data for analysis, automating data entry, or processing scanned documents. While web scraping can be challenging due to anti-scraping measures and website structure changes, and OCR accuracy can vary depending on image quality, these libraries provide powerful tools for tackling such problems programmatically."
      ],
      "metadata": {
        "id": "SS48QInAiMD8"
      }
    }
  ]
}